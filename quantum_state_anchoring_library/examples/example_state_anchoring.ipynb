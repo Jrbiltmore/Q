
{
 "cells": [
  {
   "cell_type": "markdown",
   "metadata": {},
   "source": [
    "# Quantum State Anchoring Example"
   ]
  },
  {
   "cell_type": "code",
   "execution_count": null,
   "metadata": {},
   "outputs": [],
   "source": [
    "from datetime import datetime\n",
    "from qiskit import QuantumCircuit\n",
    "from quantum_state_anchoring.src.state_anchoring import QuantumStateAnchor\n",
    "\n",
    "# Create a simple quantum circuit\n",
    "qc = QuantumCircuit(1)\n",
    "qc.h(0)  # Apply Hadamard gate\n",
    "\n",
    "# Anchor the quantum state\n",
    "anchor = QuantumStateAnchor(qc)\n",
    "anchored_state = anchor.anchor_state(datetime.utcnow())\n",
    "print(anchored_state)"
   ]
  },
  {
   "cell_type": "markdown",
   "metadata": {},
   "source": [
    "This notebook demonstrates how to create a simple quantum circuit, apply a Hadamard gate, and anchor the quantum state at the current time."
   ]
  }
 ],
 "metadata": {
  "kernelspec": {
   "display_name": "Python 3",
   "language": "python",
   "name": "python3"
  },
  "language_info": {
   "name": "python",
   "version": "3.8"
  }
 },
 "nbformat": 4,
 "nbformat_minor": 5
}
