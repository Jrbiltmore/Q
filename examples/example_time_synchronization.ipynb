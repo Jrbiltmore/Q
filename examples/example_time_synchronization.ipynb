
{
 "cells": [
  {
   "cell_type": "markdown",
   "metadata": {},
   "source": [
    "# Quantum Time Synchronization Example"
   ]
  },
  {
   "cell_type": "code",
   "execution_count": null,
   "metadata": {},
   "outputs": [],
   "source": [
    "from datetime import datetime\n",
    "from quantum_state_anchoring.src.synchronization import QuantumSynchronization\n",
    "\n",
    "# Initialize synchronization\n",
    "sync = QuantumSynchronization()\n",
    "\n",
    "# Synchronize a node to the current UTC time\n",
    "sync_time = sync.synchronize_time('node_1', datetime.utcnow())\n",
    "print(f'Node 1 synchronized to: {sync_time}')"
   ]
  },
  {
   "cell_type": "markdown",
   "metadata": {},
   "source": [
    "In this notebook, we demonstrate how to synchronize a quantum system to the current UTC time using the QuantumSynchronization class."
   ]
  }
 ],
 "metadata": {
  "kernelspec": {
   "display_name": "Python 3",
   "language": "python",
   "name": "python3"
  },
  "language_info": {
   "name": "python",
   "version": "3.8"
  }
 },
 "nbformat": 4,
 "nbformat_minor": 5
}
