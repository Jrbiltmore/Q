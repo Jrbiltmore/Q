
{
 "cells": [
  {
   "cell_type": "markdown",
   "metadata": {},
   "source": [
    "# Quantum Memory Usage Example"
   ]
  },
  {
   "cell_type": "code",
   "execution_count": null,
   "metadata": {},
   "outputs": [],
   "source": [
    "from qiskit import QuantumCircuit\n",
    "from quantum_state_anchoring.src.quantum_memory import QuantumMemory\n",
    "\n",
    "# Create a quantum circuit\n",
    "qc = QuantumCircuit(1)\n",
    "qc.h(0)  # Apply Hadamard gate\n",
    "\n",
    "# Initialize quantum memory\n",
    "memory = QuantumMemory()\n",
    "\n",
    "# Store the quantum state in memory\n",
    "memory.store_state('state_1', qc)\n",
    "\n",
    "# Retrieve the stored state\n",
    "retrieved_state = memory.retrieve_state('state_1')\n",
    "print(retrieved_state)"
   ]
  },
  {
   "cell_type": "markdown",
   "metadata": {},
   "source": [
    "In this notebook, we demonstrate how to store and retrieve a quantum state using the QuantumMemory class. We use a simple Hadamard gate and store the resulting quantum state."
   ]
  }
 ],
 "metadata": {
  "kernelspec": {
   "display_name": "Python 3",
   "language": "python",
   "name": "python3"
  },
  "language_info": {
   "name": "python",
   "version": "3.8"
  }
 },
 "nbformat": 4,
 "nbformat_minor": 5
}
