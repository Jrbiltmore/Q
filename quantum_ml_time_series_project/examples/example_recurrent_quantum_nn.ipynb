
{
 "cells": [
  {
   "cell_type": "markdown",
   "metadata": {},
   "source": [
    "# Recurrent Quantum Neural Network Example\n",
    "This notebook demonstrates how to use Recurrent Quantum Neural Networks for time series prediction."
   ]
  },
  {
   "cell_type": "code",
   "execution_count": null,
   "metadata": {},
   "outputs": [],
   "source": [
    "import numpy as np\n",
    "from src.recurrent_quantum_nn import RecurrentQuantumNN\n",
    "\n",
    "# Initialize recurrent quantum neural network\n",
    "num_qubits = 2\n",
    "time_steps = 3\n",
    "rqnn = RecurrentQuantumNN(num_qubits=num_qubits, time_steps=time_steps)\n",
    "\n",
    "# Generate synthetic time series data\n",
    "time_series = np.random.rand(100, time_steps)\n",
    "\n",
    "# Train the quantum neural network\n",
    "model = rqnn.build_model(time_series)\n",
    "\n",
    "# Predict future values based on the trained model\n",
    "predictions = rqnn.predict(model, time_series)\n",
    "print(predictions)"
   ]
  },
  {
   "cell_type": "markdown",
   "metadata": {},
   "source": [
    "### Visualizing the results\n",
    "Once the model is trained, you can visualize the predictions made by the quantum recurrent neural network."
   ]
  },
  {
   "cell_type": "code",
   "execution_count": null,
   "metadata": {},
   "outputs": [],
   "source": [
    "import matplotlib.pyplot as plt\n",
    "\n",
    "# Plot the predictions vs actual values\n",
    "plt.plot(range(len(predictions)), predictions, label='Predictions')\n",
    "plt.plot(range(len(time_series) - time_steps), time_series[time_steps:], label='Actual Values')\n",
    "plt.legend()\n",
    "plt.title('Quantum RNN Predictions vs Actual Values')\n",
    "plt.show()"
   ]
  }
 ],
 "metadata": {
  "kernelspec": {
   "display_name": "Python 3",
   "language": "python",
   "name": "python3"
  },
  "language_info": {
   "codemirror_mode": {
    "name": "ipython",
    "version": 3
   },
   "file_extension": ".py",
   "mimetype": "text/x-python",
   "name": "python",
   "nbconvert_exporter": "python",
   "version": "3.8.5"
  }
 },
 "nbformat": 4,
 "nbformat_minor": 4
}
